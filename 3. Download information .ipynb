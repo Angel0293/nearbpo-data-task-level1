{
 "cells": [
  {
   "cell_type": "markdown",
   "metadata": {
    "id": "n-YGob6PIdil"
   },
   "source": [
    "## Descarga de los archivos"
   ]
  },
  {
   "cell_type": "markdown",
   "metadata": {
    "id": "cm0rfDcWIgjq"
   },
   "source": [
    "Librerías y paths utilizados"
   ]
  },
  {
   "cell_type": "code",
   "execution_count": 1,
   "metadata": {
    "colab": {
     "base_uri": "https://localhost:8080/"
    },
    "executionInfo": {
     "elapsed": 15792,
     "status": "ok",
     "timestamp": 1663294063507,
     "user": {
      "displayName": "José Ángel Jiménez Juárez",
      "userId": "17807775541815178503"
     },
     "user_tz": 300
    },
    "id": "vy6WvdP4trKr",
    "outputId": "36c79453-b9b1-4bf7-9a4d-26f289f4f059"
   },
   "outputs": [],
   "source": [
    "#%pip install -U BeautifulSoup4\n",
    "#Para web scraping\n",
    "from bs4 import BeautifulSoup as bs\n",
    "import requests\n",
    "\n",
    "#Para descargar los archivos\n",
    "import pandas as pd\n",
    "import numpy as np\n",
    "\n",
    "#De donde se bajaran los archivos\n",
    "URL_s = \"https://raw.githubusercontent.com/srovere/nearbpo-data-task-level1/main/data/stations.csv\"\n",
    "URL_v = \"https://raw.githubusercontent.com/srovere/nearbpo-data-task-level1/main/data/variables.csv\"\n",
    "URL_o = ['http://www.inia.org.uy/online/site/gras_datos.php?filtro=1&fecha_des=2019-01-01&fecha_has=2021-12-30&ver=20000&campos=15',\n",
    "         'http://www.inia.org.uy/online/site/gras_datos.php?filtro=2&fecha_des=2019-01-01&fecha_has=2021-12-30&ver=20000&campos=15',\n",
    "         'http://www.inia.org.uy/online/site/gras_datos.php?filtro=3&fecha_des=2019-01-01&fecha_has=2021-12-30&ver=20000&campos=15',\n",
    "         'http://www.inia.org.uy/online/site/gras_datos.php?filtro=4&fecha_des=2019-01-01&fecha_has=2021-12-30&ver=20000&campos=15',\n",
    "         'http://www.inia.org.uy/online/site/gras_datos.php?filtro=5&fecha_des=2019-01-01&fecha_has=2021-12-30&ver=20000&campos=15']\n",
    "\n",
    "#Donde se guardaran los archivos\n",
    "        #cambiar al directorio/ruta deseado.\n",
    "path = \"C:\\Users\\ppyan\\.jupyter\\\"\n",
    "\n"
   ]
  },
  {
   "cell_type": "markdown",
   "metadata": {
    "id": "B1dRQSvTotcB"
   },
   "source": [
    "#### Descargando el primer archivo"
   ]
  },
  {
   "cell_type": "code",
   "execution_count": 31,
   "metadata": {
    "colab": {
     "base_uri": "https://localhost:8080/"
    },
    "executionInfo": {
     "elapsed": 376,
     "status": "ok",
     "timestamp": 1663279353099,
     "user": {
      "displayName": "José Ángel Jiménez Juárez",
      "userId": "17807775541815178503"
     },
     "user_tz": 300
    },
    "id": "aepkAsX57e8X",
    "outputId": "bc3e4abc-b0ba-4717-f304-ac29225a7b6c"
   },
   "outputs": [
    {
     "name": "stdout",
     "output_type": "stream",
     "text": [
      "Se descargo el csv\n"
     ]
    }
   ],
   "source": [
    "descarga1 = pd.read_csv(URL_v) #Se obtiene la url\n",
    "#display(descarga1)           #Revisar los datos\n",
    "descarga1.to_csv(\"variables.csv\", encoding='utf-8',index= False) #Se descarga como csv\n",
    "print(\"Se descargo el csv\")"
   ]
  },
  {
   "cell_type": "markdown",
   "metadata": {
    "id": "lCXHXdcwLewV"
   },
   "source": [
    "#### Descargando el segundo archivo"
   ]
  },
  {
   "cell_type": "code",
   "execution_count": 32,
   "metadata": {
    "colab": {
     "base_uri": "https://localhost:8080/"
    },
    "executionInfo": {
     "elapsed": 350,
     "status": "ok",
     "timestamp": 1663279422299,
     "user": {
      "displayName": "José Ángel Jiménez Juárez",
      "userId": "17807775541815178503"
     },
     "user_tz": 300
    },
    "id": "IAi0t_Wb90Ei",
    "outputId": "f015ccf8-4a43-413d-c013-1d98594d58c0"
   },
   "outputs": [
    {
     "name": "stdout",
     "output_type": "stream",
     "text": [
      "Se descargo el csv\n"
     ]
    }
   ],
   "source": [
    "descarga2 = pd.read_csv(URL_s) #Se obtiene la url\n",
    "#display(descarga2)           #Revisar los datos\n",
    "descarga2.to_csv(\"stations.csv\", encoding='utf-8',index= False) #Se descarga como csv\n",
    "print(\"Se descargo el csv\")"
   ]
  },
  {
   "cell_type": "markdown",
   "metadata": {
    "id": "Q4QI8n2JLqrF"
   },
   "source": [
    "### Descargando los archivos de las 5 estaciones"
   ]
  },
  {
   "cell_type": "markdown",
   "metadata": {},
   "source": [
    "#### ejemplo de las descargas station **NO EJECUTAR IRSE A LAS DESCARGAS**"
   ]
  },
  {
   "cell_type": "markdown",
   "metadata": {
    "id": "sGdff149ODyM"
   },
   "source": [
    "conexión a la url"
   ]
  },
  {
   "cell_type": "code",
   "execution_count": 64,
   "metadata": {
    "executionInfo": {
     "elapsed": 3614,
     "status": "ok",
     "timestamp": 1663295893642,
     "user": {
      "displayName": "José Ángel Jiménez Juárez",
      "userId": "17807775541815178503"
     },
     "user_tz": 300
    },
    "id": "GyEowNfm4xfN"
   },
   "outputs": [],
   "source": [
    "captura = requests.get(URL_o)  #se obtiene la url (manda solicitud en tipo http)\n",
    "conecta = captura.content      #entrando al codigo fuente de la pagina\n",
    "conexion = bs(conecta,'html.parser') #listo para buscar y leer formato html\n",
    "#print(conexion) #vista previa de la web\n",
    "\n",
    "#Los datos que se requieren estan en: </tr> y <td"
   ]
  },
  {
   "cell_type": "markdown",
   "metadata": {
    "id": "XjqKGe8iOJux"
   },
   "source": [
    "Visualización de los datos"
   ]
  },
  {
   "cell_type": "code",
   "execution_count": 65,
   "metadata": {
    "colab": {
     "base_uri": "https://localhost:8080/",
     "height": 424
    },
    "executionInfo": {
     "elapsed": 150,
     "status": "ok",
     "timestamp": 1663280426845,
     "user": {
      "displayName": "José Ángel Jiménez Juárez",
      "userId": "17807775541815178503"
     },
     "user_tz": 300
    },
    "id": "OKmquteXNmrt",
    "outputId": "3365bf20-e303-4fed-cfbb-2536f6936438"
   },
   "outputs": [
    {
     "data": {
      "text/html": [
       "<div>\n",
       "<style scoped>\n",
       "    .dataframe tbody tr th:only-of-type {\n",
       "        vertical-align: middle;\n",
       "    }\n",
       "\n",
       "    .dataframe tbody tr th {\n",
       "        vertical-align: top;\n",
       "    }\n",
       "\n",
       "    .dataframe thead th {\n",
       "        text-align: right;\n",
       "    }\n",
       "</style>\n",
       "<table border=\"1\" class=\"dataframe\">\n",
       "  <thead>\n",
       "    <tr style=\"text-align: right;\">\n",
       "      <th></th>\n",
       "      <th>0</th>\n",
       "    </tr>\n",
       "  </thead>\n",
       "  <tbody>\n",
       "    <tr>\n",
       "      <th>0</th>\n",
       "      <td></td>\n",
       "    </tr>\n",
       "    <tr>\n",
       "      <th>1</th>\n",
       "      <td>\\n\\t    \\t</td>\n",
       "    </tr>\n",
       "    <tr>\n",
       "      <th>2</th>\n",
       "      <td>\\n\\t \\n\\t  \\t\\t | \\r\\n\\t\\tSolicitar Contraseña...</td>\n",
       "    </tr>\n",
       "    <tr>\n",
       "      <th>3</th>\n",
       "      <td>\\n\\n\\n\\n\\n\\n\\nInstitución\\n\\nBienvenida\\nMisió...</td>\n",
       "    </tr>\n",
       "    <tr>\n",
       "      <th>4</th>\n",
       "      <td>\\n\\n\\n\\n\\n\\n\\n\\n\\n\\n\\n\\n\\n\\n\\n\\n\\nInicial Info...</td>\n",
       "    </tr>\n",
       "    <tr>\n",
       "      <th>...</th>\n",
       "      <td>...</td>\n",
       "    </tr>\n",
       "    <tr>\n",
       "      <th>2201</th>\n",
       "      <td>01-01-2019</td>\n",
       "    </tr>\n",
       "    <tr>\n",
       "      <th>2202</th>\n",
       "      <td>33.2</td>\n",
       "    </tr>\n",
       "    <tr>\n",
       "      <th>2203</th>\n",
       "      <td></td>\n",
       "    </tr>\n",
       "    <tr>\n",
       "      <th>2204</th>\n",
       "      <td>&lt;&lt; Volver</td>\n",
       "    </tr>\n",
       "    <tr>\n",
       "      <th>2205</th>\n",
       "      <td></td>\n",
       "    </tr>\n",
       "  </tbody>\n",
       "</table>\n",
       "<p>2206 rows × 1 columns</p>\n",
       "</div>"
      ],
      "text/plain": [
       "                                                      0\n",
       "0                                                      \n",
       "1                                          \\n\\t    \\t  \n",
       "2     \\n\\t \\n\\t  \\t\\t | \\r\\n\\t\\tSolicitar Contraseña...\n",
       "3     \\n\\n\\n\\n\\n\\n\\nInstitución\\n\\nBienvenida\\nMisió...\n",
       "4     \\n\\n\\n\\n\\n\\n\\n\\n\\n\\n\\n\\n\\n\\n\\n\\n\\nInicial Info...\n",
       "...                                                 ...\n",
       "2201                                         01-01-2019\n",
       "2202                                               33.2\n",
       "2203                                                   \n",
       "2204                                          << Volver\n",
       "2205                                                   \n",
       "\n",
       "[2206 rows x 1 columns]"
      ]
     },
     "execution_count": 65,
     "metadata": {},
     "output_type": "execute_result"
    }
   ],
   "source": [
    "#for i in conexion.find_all(\"tr\"): #muestra en la sección en donde estan los datos\n",
    "limite = 0  #inicialización de contador\n",
    "Encontrar = conexion.find_all(\"td\")   #encuentra las secciones con 'td'\n",
    "         #una ves en la sección ir guardando SOLO el texto (los datos) hasta que el contador llegue a 5\n",
    "x = [j.text for j in Encontrar if limite < 5] \n",
    "                #Los datos recuperados se pasan a un dataframe \n",
    "df = pd.DataFrame(x)\n",
    "df"
   ]
  },
  {
   "cell_type": "markdown",
   "metadata": {
    "id": "JTpGksfwPW6N"
   },
   "source": [
    "limpieza  y descarga de los datos"
   ]
  },
  {
   "cell_type": "code",
   "execution_count": 78,
   "metadata": {
    "colab": {
     "base_uri": "https://localhost:8080/"
    },
    "executionInfo": {
     "elapsed": 165,
     "status": "ok",
     "timestamp": 1663281416808,
     "user": {
      "displayName": "José Ángel Jiménez Juárez",
      "userId": "17807775541815178503"
     },
     "user_tz": 300
    },
    "id": "hpJSRne0N1Av",
    "outputId": "fb171129-d1bd-4723-88f3-34b29dd8468c"
   },
   "outputs": [
    {
     "name": "stdout",
     "output_type": "stream",
     "text": [
      "Archivo descargado\n"
     ]
    }
   ],
   "source": [
    "#df.tail()          #Se localiza en donde estan los datos requeridos (hasta el index 2202)\n",
    "\n",
    "#se localiza exactamente las temperaturas y grados\n",
    "datos = df.iloc[13:2203] #2203-(1095x2) = 13\n",
    "\n",
    "datos_f = datos.iloc[::2] #Las fechas estan en filas pares, se separan\n",
    "datos_t = datos.iloc[1::2] #Las temperaturas estan en filas impares, se separan\n",
    "\n",
    "\n",
    "df_f = pd.DataFrame(datos_f) #se vuelve dataframe a las fechas\n",
    "df_f.set_index(np.arange(1,1096),inplace=True) #se reinicia el index\n",
    "df_f.index.name = 'filas' #se coloca nombre a la columna\n",
    "\n",
    "df_t = pd.DataFrame(datos_t) #se vuelve dataframe a las temperaturas\n",
    "df_t.set_index(np.arange(1,1096),inplace=True) #se reinicia el index\n",
    "df_t.index.name = 'filas' #se coloca nombre a la columna\n",
    "\n",
    "\n",
    "clima = pd.merge(df_f,df_t, on=['filas']) #se unen los 2 df por medio del index\n",
    "clima.columns = ['Fechas','Temperatura Máxima ºC'] #se colocan los headers, respectivamente\n",
    "#clima['Fechas'].astype('datetime64') #se colocan las fechas como tipo de dato datetime\n",
    "clima['Temperatura Máxima ºC'].astype('float64') #se colocan las temperaturas como tipo de dato float\n",
    "\n",
    "#Descarga\n",
    "clima.to_csv('observations.csv',encoding='utf-8',index=False) #se descarga el df como csv, con codigicacion utf8 y sin index\n",
    "print(\"Archivo descargado\")"
   ]
  },
  {
   "cell_type": "markdown",
   "metadata": {},
   "source": [
    "#### **DESCARGA** de stations 1, 2 , 3, 4 y 5"
   ]
  },
  {
   "cell_type": "code",
   "execution_count": 82,
   "metadata": {},
   "outputs": [
    {
     "name": "stdout",
     "output_type": "stream",
     "text": [
      "Archivo1 descargado\n",
      "Archivo2 descargado\n",
      "Archivo3 descargado\n",
      "Archivo4 descargado\n",
      "Archivo5 descargado\n"
     ]
    }
   ],
   "source": [
    "def des(URL):  #se ejecuta 5 veces\n",
    "  captura2 = requests.get(URL)  #se obtiene la url (manda solicitud en tipo http)\n",
    "  conecta2 = captura2.content      #entrando al codigo fuente de la pagina\n",
    "  conexion2 = bs(conecta2,'html.parser') #listo para buscar y leer formato html\n",
    "\n",
    "  limite2 = 0  #inicialización de contador\n",
    "  Encontrar2 = conexion2.find_all(\"td\")   #encuentra las secciones con 'td'\n",
    "          #una ves en la sección ir guardando SOLO el texto (los datos) hasta que el contador llegue a 5\n",
    "  x2 = [j.text for j in Encontrar2 if limite2 < 5] \n",
    "                  #Los datos recuperados se pasan a un dataframe \n",
    "  df2 = pd.DataFrame(x2)\n",
    "\n",
    "  datos2 = df2.iloc[13:2203] #2203-(1095x2) = 13\n",
    "\n",
    "  datos_f2 = datos2.iloc[::2] #Las fechas estan en filas pares, se separan\n",
    "  datos_t2 = datos2.iloc[1::2] #Las temperaturas estan en filas impares, se separan\n",
    "\n",
    "\n",
    "  df_f2 = pd.DataFrame(datos_f2) #se vuelve dataframe a las fechas\n",
    "  df_f2.set_index(np.arange(1,1096),inplace=True) #se reinicia el index\n",
    "  df_f2.index.name = 'filas' #se coloca nombre a la columna\n",
    "\n",
    "  df_t2 = pd.DataFrame(datos_t2) #se vuelve dataframe a las temperaturas\n",
    "  df_t2.set_index(np.arange(1,1096),inplace=True) #se reinicia el index\n",
    "  df_t2.index.name = 'filas' #se coloca nombre a la columna\n",
    "\n",
    "\n",
    "  clima2 = pd.merge(df_f2,df_t2, on=['filas']) #se unen los 2 df por medio del index\n",
    "  clima2.columns = ['Fechas','Temperatura Máxima ºC'] #se colocan los headers, respectivamente\n",
    "  #clima2['Fechas'].astype('datetime64') #se colocan las fechas como tipo de dato datetime\n",
    "  #clima2['Temperatura Máxima ºC'].astype('float64') #se colocan las temperaturas como tipo de dato float ->comentar para las station2,3,4, ya que les falta almenos 1 temperatura\n",
    "#Descarga\n",
    "  clima2.to_csv('observations'+URL[57:58]+'.csv',encoding='utf-8',index=False) #se descarga el df como csv, con codigicacion utf8 y sin index\n",
    "  print(\"Archivo\"+URL[57:58]+\" descargado\")\n",
    "\n",
    "def desc(LINK):\n",
    "  for i in LINK: #para cada una de las 5 url's\n",
    "    des(i)       #ejecuta web scrapping\n",
    "desc(URL_o)     #se le pasa la lista de las URL's\n"
   ]
  }
 ],
 "metadata": {
  "colab": {
   "authorship_tag": "ABX9TyM8lHNm5cKSi9WVa/QI9dk2",
   "collapsed_sections": [
    "n-YGob6PIdil"
   ],
   "provenance": []
  },
  "kernelspec": {
   "display_name": "Python 3 (ipykernel)",
   "language": "python",
   "name": "python3"
  },
  "language_info": {
   "codemirror_mode": {
    "name": "ipython",
    "version": 3
   },
   "file_extension": ".py",
   "mimetype": "text/x-python",
   "name": "python",
   "nbconvert_exporter": "python",
   "pygments_lexer": "ipython3",
   "version": "3.9.12"
  }
 },
 "nbformat": 4,
 "nbformat_minor": 1
}
