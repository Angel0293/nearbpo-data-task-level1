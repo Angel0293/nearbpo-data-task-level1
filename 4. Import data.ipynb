{
 "cells": [
  {
   "cell_type": "markdown",
   "metadata": {
    "id": "n-YGob6PIdil"
   },
   "source": [
    "## Carga de los archivos a la base de datos"
   ]
  },
  {
   "cell_type": "markdown",
   "metadata": {
    "id": "cm0rfDcWIgjq"
   },
   "source": [
    "Librerías y paths utilizados"
   ]
  },
  {
   "cell_type": "code",
   "execution_count": 1,
   "metadata": {
    "colab": {
     "base_uri": "https://localhost:8080/"
    },
    "executionInfo": {
     "elapsed": 15792,
     "status": "ok",
     "timestamp": 1663294063507,
     "user": {
      "displayName": "José Ángel Jiménez Juárez",
      "userId": "17807775541815178503"
     },
     "user_tz": 300
    },
    "id": "vy6WvdP4trKr",
    "outputId": "36c79453-b9b1-4bf7-9a4d-26f289f4f059"
   },
   "outputs": [],
   "source": [
    "#%pip install pyodbc\n",
    "import pandas as pd\n",
    "import numpy as np\n",
    "\n",
    "#Donde se guardaran los archivos\n",
    "        #cambiar al directorio/ruta deseado.\n",
    "path = \"C:\\Users\\ppyan\\.jupyter\\\""
   ]
  },
  {
   "cell_type": "markdown",
   "metadata": {},
   "source": [
    "### Carga en memoria"
   ]
  },
  {
   "cell_type": "markdown",
   "metadata": {},
   "source": [
    "variables"
   ]
  },
  {
   "cell_type": "code",
   "execution_count": 2,
   "metadata": {
    "id": "f2eie_zZUw_o"
   },
   "outputs": [
    {
     "data": {
      "text/html": [
       "<div>\n",
       "<style scoped>\n",
       "    .dataframe tbody tr th:only-of-type {\n",
       "        vertical-align: middle;\n",
       "    }\n",
       "\n",
       "    .dataframe tbody tr th {\n",
       "        vertical-align: top;\n",
       "    }\n",
       "\n",
       "    .dataframe thead th {\n",
       "        text-align: right;\n",
       "    }\n",
       "</style>\n",
       "<table border=\"1\" class=\"dataframe\">\n",
       "  <thead>\n",
       "    <tr style=\"text-align: right;\">\n",
       "      <th></th>\n",
       "      <th>variable_id</th>\n",
       "      <th>name</th>\n",
       "      <th>description</th>\n",
       "      <th>units</th>\n",
       "    </tr>\n",
       "  </thead>\n",
       "  <tbody>\n",
       "    <tr>\n",
       "      <th>0</th>\n",
       "      <td>tmax</td>\n",
       "      <td>Maximum temperature</td>\n",
       "      <td>Maximum temperature</td>\n",
       "      <td>°C</td>\n",
       "    </tr>\n",
       "  </tbody>\n",
       "</table>\n",
       "</div>"
      ],
      "text/plain": [
       "  variable_id                 name          description units\n",
       "0        tmax  Maximum temperature  Maximum temperature    °C"
      ]
     },
     "execution_count": 2,
     "metadata": {},
     "output_type": "execute_result"
    }
   ],
   "source": [
    "df_v = pd.read_csv('variables.csv')\n",
    "df_v"
   ]
  },
  {
   "cell_type": "markdown",
   "metadata": {},
   "source": [
    "stations"
   ]
  },
  {
   "cell_type": "code",
   "execution_count": 3,
   "metadata": {},
   "outputs": [
    {
     "data": {
      "text/html": [
       "<div>\n",
       "<style scoped>\n",
       "    .dataframe tbody tr th:only-of-type {\n",
       "        vertical-align: middle;\n",
       "    }\n",
       "\n",
       "    .dataframe tbody tr th {\n",
       "        vertical-align: top;\n",
       "    }\n",
       "\n",
       "    .dataframe thead th {\n",
       "        text-align: right;\n",
       "    }\n",
       "</style>\n",
       "<table border=\"1\" class=\"dataframe\">\n",
       "  <thead>\n",
       "    <tr style=\"text-align: right;\">\n",
       "      <th></th>\n",
       "      <th>station_id</th>\n",
       "      <th>name</th>\n",
       "      <th>latitude</th>\n",
       "      <th>longitude</th>\n",
       "      <th>elevation</th>\n",
       "    </tr>\n",
       "  </thead>\n",
       "  <tbody>\n",
       "    <tr>\n",
       "      <th>0</th>\n",
       "      <td>1</td>\n",
       "      <td>Las Brujas</td>\n",
       "      <td>-34.671944</td>\n",
       "      <td>-56.340000</td>\n",
       "      <td>32</td>\n",
       "    </tr>\n",
       "    <tr>\n",
       "      <th>1</th>\n",
       "      <td>2</td>\n",
       "      <td>La Estanzuela</td>\n",
       "      <td>-34.337222</td>\n",
       "      <td>-57.692222</td>\n",
       "      <td>72</td>\n",
       "    </tr>\n",
       "    <tr>\n",
       "      <th>2</th>\n",
       "      <td>3</td>\n",
       "      <td>Tacuarembó</td>\n",
       "      <td>-31.708889</td>\n",
       "      <td>-55.826667</td>\n",
       "      <td>115</td>\n",
       "    </tr>\n",
       "    <tr>\n",
       "      <th>3</th>\n",
       "      <td>4</td>\n",
       "      <td>Treinta y Tres</td>\n",
       "      <td>-33.275000</td>\n",
       "      <td>-54.172222</td>\n",
       "      <td>22</td>\n",
       "    </tr>\n",
       "    <tr>\n",
       "      <th>4</th>\n",
       "      <td>5</td>\n",
       "      <td>Salto Grande</td>\n",
       "      <td>-31.272778</td>\n",
       "      <td>-57.890833</td>\n",
       "      <td>47</td>\n",
       "    </tr>\n",
       "  </tbody>\n",
       "</table>\n",
       "</div>"
      ],
      "text/plain": [
       "   station_id            name   latitude  longitude  elevation\n",
       "0           1      Las Brujas -34.671944 -56.340000         32\n",
       "1           2   La Estanzuela -34.337222 -57.692222         72\n",
       "2           3      Tacuarembó -31.708889 -55.826667        115\n",
       "3           4  Treinta y Tres -33.275000 -54.172222         22\n",
       "4           5    Salto Grande -31.272778 -57.890833         47"
      ]
     },
     "execution_count": 3,
     "metadata": {},
     "output_type": "execute_result"
    }
   ],
   "source": [
    "df_s = pd.read_csv('stations.csv')\n",
    "df_s"
   ]
  },
  {
   "cell_type": "markdown",
   "metadata": {},
   "source": [
    "datos de las 5 stations"
   ]
  },
  {
   "cell_type": "code",
   "execution_count": 90,
   "metadata": {},
   "outputs": [],
   "source": [
    "df_o1 = pd.read_csv('observations1.csv',encoding= 'utf-8')\n",
    "df_o2 = pd.read_csv('observations2.csv',encoding= 'utf-8')\n",
    "df_o3 = pd.read_csv('observations3.csv',encoding= 'utf-8')\n",
    "df_o4 = pd.read_csv('observations4.csv',encoding= 'utf-8')\n",
    "df_o5 = pd.read_csv('observations5.csv',encoding= 'utf-8')"
   ]
  },
  {
   "cell_type": "markdown",
   "metadata": {},
   "source": [
    "reemplazo de valores faltantes de algunas tablas"
   ]
  },
  {
   "cell_type": "code",
   "execution_count": 114,
   "metadata": {},
   "outputs": [],
   "source": [
    "#df_o2['Temperatura Máxima ºC'].isna().value_counts()\n",
    "df_o2.fillna(0,inplace=True)\n",
    "df_o3.fillna(0,inplace=True)\n",
    "df_o4.fillna(0,inplace=True)"
   ]
  },
  {
   "cell_type": "markdown",
   "metadata": {},
   "source": [
    "### Conexión a la base de datos y subida de archivos"
   ]
  },
  {
   "cell_type": "markdown",
   "metadata": {},
   "source": [
    "importando variables"
   ]
  },
  {
   "cell_type": "code",
   "execution_count": 20,
   "metadata": {},
   "outputs": [],
   "source": [
    "import pyodbc\n",
    "\n",
    "\n",
    "connection = pyodbc.connect('DRIVER={SQL Server};SERVER=LAPTOP-FAKK9GHA;DATABASE=weather;UID=NearBPO;PWD=password')\n",
    "cursor = connection.cursor()\n",
    "#Inserting data in SQL Table:- \n",
    "for index,row in df_v.iterrows():\n",
    "    cursor.execute(\"INSERT INTO variables(variable_id,name,description, units) values (?,?,?,?)\", row['variable_id'],row['name'],row['description'],row['units']) \n",
    "connection.commit()\n",
    "cursor.close()\n",
    "#connection.close()"
   ]
  },
  {
   "cell_type": "markdown",
   "metadata": {},
   "source": [
    "importando stations"
   ]
  },
  {
   "cell_type": "code",
   "execution_count": 21,
   "metadata": {},
   "outputs": [],
   "source": [
    "connection2 = pyodbc.connect('DRIVER={SQL Server};SERVER=LAPTOP-FAKK9GHA;DATABASE=weather;UID=NearBPO;PWD=password')\n",
    "cursor2 = connection2.cursor()\n",
    "for index,row in df_s.iterrows():\n",
    "    cursor2.execute(\"INSERT INTO stations(station_id,name,latitude, longitude, elevation) values (?,?,?,?,?)\", row['station_id'],row['name'],row['latitude'],row['longitude'], row['elevation']) \n",
    "connection2.commit()\n",
    "cursor2.close()\n",
    "#connection.close()"
   ]
  },
  {
   "cell_type": "markdown",
   "metadata": {},
   "source": [
    "importando a observations"
   ]
  },
  {
   "cell_type": "code",
   "execution_count": 116,
   "metadata": {},
   "outputs": [],
   "source": [
    "connection3 = pyodbc.connect('DRIVER={SQL Server};SERVER=LAPTOP-FAKK9GHA;DATABASE=weather;UID=NearBPO;PWD=password')\n",
    "cursor3 = connection3.cursor()\n",
    "for index,row in df_o5.iterrows(): #Ir cambiando de df_o hasta df_o5\n",
    "    #cursor3.execute(\"TRUNCATE TABLE observations\")\n",
    "    cursor3.execute(\"INSERT INTO observations(observed_value) values (?)\", row['Temperatura Máxima ºC'])\n",
    "    #cursor3.execute(\"INSERT INTO observations (sensor_id) SELECT station_id FROM stations,observations WHERE stations.station_id =1 AND  observations.observed_value>1\")\n",
    "connection3.commit()\n",
    "cursor3.close()"
   ]
  }
 ],
 "metadata": {
  "colab": {
   "authorship_tag": "ABX9TyM8lHNm5cKSi9WVa/QI9dk2",
   "collapsed_sections": [
    "n-YGob6PIdil"
   ],
   "provenance": []
  },
  "kernelspec": {
   "display_name": "Python 3 (ipykernel)",
   "language": "python",
   "name": "python3"
  },
  "language_info": {
   "codemirror_mode": {
    "name": "ipython",
    "version": 3
   },
   "file_extension": ".py",
   "mimetype": "text/x-python",
   "name": "python",
   "nbconvert_exporter": "python",
   "pygments_lexer": "ipython3",
   "version": "3.9.12"
  }
 },
 "nbformat": 4,
 "nbformat_minor": 1
}
